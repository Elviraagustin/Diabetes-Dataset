{
  "nbformat": 4,
  "nbformat_minor": 0,
  "metadata": {
    "colab": {
      "provenance": [],
      "authorship_tag": "ABX9TyOO4yuA3vldS73mWEofG81Z",
      "include_colab_link": true
    },
    "kernelspec": {
      "name": "python3",
      "display_name": "Python 3"
    },
    "language_info": {
      "name": "python"
    }
  },
  "cells": [
    {
      "cell_type": "markdown",
      "metadata": {
        "id": "view-in-github",
        "colab_type": "text"
      },
      "source": [
        "<a href=\"https://colab.research.google.com/github/Elviraagustin/Diabetes-Dataset/blob/main/Diabetes_Dataset.ipynb\" target=\"_parent\"><img src=\"https://colab.research.google.com/assets/colab-badge.svg\" alt=\"Open In Colab\"/></a>"
      ]
    },
    {
      "cell_type": "markdown",
      "source": [
        "Nama : Elvira agustin\n",
        "\n",
        "NIM  : 2409116109"
      ],
      "metadata": {
        "id": "WCPWLrdVCUU4"
      }
    },
    {
      "cell_type": "markdown",
      "source": [
        "# **Studi Kasus : Mengidentifikasi Faktor Risiko Diabetes Melalui Analisis Dataset**"
      ],
      "metadata": {
        "id": "69lEuuy4CgPI"
      }
    },
    {
      "cell_type": "markdown",
      "source": [
        "**Latar Belakang**\n",
        "\n",
        "penggunaan dataset diabetes ini berkaitan dengan meningkatnya prevalensi diabetes di seluruh dunia, yang telah menjadi salah satu tantangan kesehatan masyarakat yang paling mendesak terkait dengan faktor gaya hidup seperti pola makan yang tidak sehat, kurangnya aktivitas fisik, dan obesitas. Jumlah orang yang menderita diabetes telah meningkat secara signifikan dalam beberapa dekade terakhir, dan diperkirakan akan terus meningkat jika tidak ada intervensi yang efektif. Secara keseluruhan, latar belakang ini menekankan pentingnya pemanfaatan data dalam upaya untuk memahami dan mengatasi diabetes, serta menciptakan dampak positif bagi kesehatan individu dan masyarakat.\n"
      ],
      "metadata": {
        "id": "Nf8KkRL7DSI-"
      }
    },
    {
      "cell_type": "markdown",
      "source": [
        "**Tujuan Studi Kasus**\n",
        "\n",
        "Tujuan utama dari analisis ini adalah:\n",
        "1. Diagnosis dini yang memungkinkan profesional kesehatan untuk melakukan diagnosis menggunakan data yang relevan.\n",
        "2. enelitian Kesehatan yang menyediakan data untuk penelitian lebih lanjut mengenai faktor-faktor yang berkontribusi terhadap diabetes.\n",
        "3. Pengembangan Model Prediktif yang memfasilitasi pengembangan dan pengujian model pembelajaran.\n",
        "4. Peningkatan Kesadaran yang meningkatkan kesadaran tentang pentingnya faktor-faktor risiko diabetes"
      ],
      "metadata": {
        "id": "CA9vF512D8Mg"
      }
    },
    {
      "cell_type": "markdown",
      "source": [
        "**Analisis**\n",
        "\n",
        "Analisis dataset diabetes dapat dilakukan dengan eksplorasi data menggunakan pyton dan pustaka pandas.\n",
        "\n",
        "1. Menghitung Jumlah nilai unik dalam kolom untuk melihat riwayat penyakit dan riwayat merokok\n",
        "2. Analisis Korelasi: untuk menghitung korelasi dan visualisasi.\n",
        "3. Visualisasi Data: untuk membuat grafik distribusi dan visualisasi yang lebih kompleks.\n",
        "4. Statistik deskriptif: Menghitung rata-rata, menghitung median untuk mengetahui nilai tengah, menghitung standar deviasi untuk memahami variasi kunjungan dari hari ke hari."
      ],
      "metadata": {
        "id": "qx15xxRvE_JY"
      }
    },
    {
      "cell_type": "markdown",
      "source": [
        "# **Business Understanding**"
      ],
      "metadata": {
        "id": "febSovV0IStA"
      }
    },
    {
      "cell_type": "markdown",
      "source": [
        "### **Business Objective**\n",
        "\n",
        "Penggunaan dataset diabetes ini adalah untuk mengembangkan solusi berbasis data yang dapat meningkatkan diagnosis dan pengelolaan diabetes, sehingga berkontribusi pada peningkatan kesehatan masyarakat. menciptakan model prediktif yang akurat untuk mengidentifikasi individu yang berisiko tinggi menderita diabetes. Hal ini tidak hanya akan membantu profesional kesehatan dalam melakukan diagnosis dini, tetapi juga memungkinkan pengembangan program pencegahan yang lebih efektif. Selain itu, dengan memahami faktor-faktor risiko yang berkontribusi terhadap diabetes melalui analisis data, organisasi kesehatan dapat merancang intervensi yang lebih terarah dan berbasis bukti.\n",
        "\n"
      ],
      "metadata": {
        "id": "5fH3iSNVIaWN"
      }
    },
    {
      "cell_type": "markdown",
      "source": [
        "### **Assess Situation**\n",
        "\n",
        "Diabetes merupakan salah satu masalah kesehatan global yang semakin meningkat. Menurut Organisasi Kesehatan Dunia (WHO), jumlah penderita diabetes terus meningkat, dan penyakit ini dapat menyebabkan berbagai komplikasi serius, termasuk penyakit jantung, kerusakan saraf, dan masalah penglihatan. Oleh karena itu, penting untuk memiliki alat yang efektif untuk mendiagnosis dan mengelola penyakit ini. Banyak individu yang menderita diabetes tidak menyadari kondisi mereka, yang dapat mengakibatkan keterlambatan dalam pengobatan dan peningkatan risiko komplikasi. Dengan menggunakan dataset ini, profesional kesehatan dapat mengembangkan model yang membantu dalam diagnosis dini, sehingga pasien dapat menerima perawatan yang diperlukan lebih cepat.\n",
        "\n"
      ],
      "metadata": {
        "id": "HEO15UbjJJ09"
      }
    },
    {
      "cell_type": "markdown",
      "source": [
        "### **Data Mining Goals**\n",
        "\n",
        "Data mining adalah proses menemukan pola, tren, dan informasi berguna dari kumpulan data besar dengan menggunakan teknik statistik, algoritma pembelajaran mesin, dan analisis data. Dengan menerapkan teknik-teknik data mining ini, peneliti dan profesional kesehatan dapat memperoleh wawasan yang lebih dalam tentang diabetes, mengidentifikasi faktor risiko, dan mengembangkan model yang dapat membantu dalam diagnosis dan pengelolaan penyakit."
      ],
      "metadata": {
        "id": "Bx9Kef5ZJwu6"
      }
    },
    {
      "cell_type": "markdown",
      "source": [
        "### **Project Plan**\n",
        "\n",
        "Untuk memahami dataset ini, langkah pertama adalah menampilkan data yang tersedia untuk mendapatkan gambaran awal. Setelah itu, beberapa langkah akan dilakukan untuk menganalisis Diabetes.\n"
      ],
      "metadata": {
        "id": "HM0OGA5HKHiD"
      }
    },
    {
      "cell_type": "markdown",
      "source": [
        "## **Tampilan data secara keseluruhan**\n",
        "\n"
      ],
      "metadata": {
        "id": "zblYECOmKx3Z"
      }
    },
    {
      "cell_type": "code",
      "source": [
        "import pandas as pd"
      ],
      "metadata": {
        "id": "sd5FPGspLg02"
      },
      "execution_count": 1,
      "outputs": []
    },
    {
      "cell_type": "code",
      "source": [
        "df = pd.read_csv('/content/diabetes_prediction_dataset.csv.zip')\n",
        "print(df)"
      ],
      "metadata": {
        "colab": {
          "base_uri": "https://localhost:8080/"
        },
        "id": "Dj7cyOQiOnDI",
        "outputId": "7925a5ec-b6af-4ef7-c6f2-bb189e69cdcc"
      },
      "execution_count": 5,
      "outputs": [
        {
          "output_type": "stream",
          "name": "stdout",
          "text": [
            "       gender   age  hypertension  heart_disease smoking_history    bmi  \\\n",
            "0      Female  80.0             0              1           never  25.19   \n",
            "1      Female  54.0             0              0         No Info  27.32   \n",
            "2        Male  28.0             0              0           never  27.32   \n",
            "3      Female  36.0             0              0         current  23.45   \n",
            "4        Male  76.0             1              1         current  20.14   \n",
            "...       ...   ...           ...            ...             ...    ...   \n",
            "99995  Female  80.0             0              0         No Info  27.32   \n",
            "99996  Female   2.0             0              0         No Info  17.37   \n",
            "99997    Male  66.0             0              0          former  27.83   \n",
            "99998  Female  24.0             0              0           never  35.42   \n",
            "99999  Female  57.0             0              0         current  22.43   \n",
            "\n",
            "       HbA1c_level  blood_glucose_level  diabetes  \n",
            "0              6.6                  140         0  \n",
            "1              6.6                   80         0  \n",
            "2              5.7                  158         0  \n",
            "3              5.0                  155         0  \n",
            "4              4.8                  155         0  \n",
            "...            ...                  ...       ...  \n",
            "99995          6.2                   90         0  \n",
            "99996          6.5                  100         0  \n",
            "99997          5.7                  155         0  \n",
            "99998          4.0                  100         0  \n",
            "99999          6.6                   90         0  \n",
            "\n",
            "[100000 rows x 9 columns]\n"
          ]
        }
      ]
    },
    {
      "cell_type": "markdown",
      "source": [
        "### **Tampilan 5 baris pertama data**"
      ],
      "metadata": {
        "id": "bbc6AupUR8jO"
      }
    },
    {
      "cell_type": "code",
      "source": [
        "df.head()"
      ],
      "metadata": {
        "colab": {
          "base_uri": "https://localhost:8080/",
          "height": 206
        },
        "id": "YsrfnUpgSMkc",
        "outputId": "10a63e33-c99d-4e53-9efb-686ec4747668"
      },
      "execution_count": 6,
      "outputs": [
        {
          "output_type": "execute_result",
          "data": {
            "text/plain": [
              "   gender   age  hypertension  heart_disease smoking_history    bmi  \\\n",
              "0  Female  80.0             0              1           never  25.19   \n",
              "1  Female  54.0             0              0         No Info  27.32   \n",
              "2    Male  28.0             0              0           never  27.32   \n",
              "3  Female  36.0             0              0         current  23.45   \n",
              "4    Male  76.0             1              1         current  20.14   \n",
              "\n",
              "   HbA1c_level  blood_glucose_level  diabetes  \n",
              "0          6.6                  140         0  \n",
              "1          6.6                   80         0  \n",
              "2          5.7                  158         0  \n",
              "3          5.0                  155         0  \n",
              "4          4.8                  155         0  "
            ],
            "text/html": [
              "\n",
              "  <div id=\"df-c48e9f8c-174e-443f-b230-d85a28236100\" class=\"colab-df-container\">\n",
              "    <div>\n",
              "<style scoped>\n",
              "    .dataframe tbody tr th:only-of-type {\n",
              "        vertical-align: middle;\n",
              "    }\n",
              "\n",
              "    .dataframe tbody tr th {\n",
              "        vertical-align: top;\n",
              "    }\n",
              "\n",
              "    .dataframe thead th {\n",
              "        text-align: right;\n",
              "    }\n",
              "</style>\n",
              "<table border=\"1\" class=\"dataframe\">\n",
              "  <thead>\n",
              "    <tr style=\"text-align: right;\">\n",
              "      <th></th>\n",
              "      <th>gender</th>\n",
              "      <th>age</th>\n",
              "      <th>hypertension</th>\n",
              "      <th>heart_disease</th>\n",
              "      <th>smoking_history</th>\n",
              "      <th>bmi</th>\n",
              "      <th>HbA1c_level</th>\n",
              "      <th>blood_glucose_level</th>\n",
              "      <th>diabetes</th>\n",
              "    </tr>\n",
              "  </thead>\n",
              "  <tbody>\n",
              "    <tr>\n",
              "      <th>0</th>\n",
              "      <td>Female</td>\n",
              "      <td>80.0</td>\n",
              "      <td>0</td>\n",
              "      <td>1</td>\n",
              "      <td>never</td>\n",
              "      <td>25.19</td>\n",
              "      <td>6.6</td>\n",
              "      <td>140</td>\n",
              "      <td>0</td>\n",
              "    </tr>\n",
              "    <tr>\n",
              "      <th>1</th>\n",
              "      <td>Female</td>\n",
              "      <td>54.0</td>\n",
              "      <td>0</td>\n",
              "      <td>0</td>\n",
              "      <td>No Info</td>\n",
              "      <td>27.32</td>\n",
              "      <td>6.6</td>\n",
              "      <td>80</td>\n",
              "      <td>0</td>\n",
              "    </tr>\n",
              "    <tr>\n",
              "      <th>2</th>\n",
              "      <td>Male</td>\n",
              "      <td>28.0</td>\n",
              "      <td>0</td>\n",
              "      <td>0</td>\n",
              "      <td>never</td>\n",
              "      <td>27.32</td>\n",
              "      <td>5.7</td>\n",
              "      <td>158</td>\n",
              "      <td>0</td>\n",
              "    </tr>\n",
              "    <tr>\n",
              "      <th>3</th>\n",
              "      <td>Female</td>\n",
              "      <td>36.0</td>\n",
              "      <td>0</td>\n",
              "      <td>0</td>\n",
              "      <td>current</td>\n",
              "      <td>23.45</td>\n",
              "      <td>5.0</td>\n",
              "      <td>155</td>\n",
              "      <td>0</td>\n",
              "    </tr>\n",
              "    <tr>\n",
              "      <th>4</th>\n",
              "      <td>Male</td>\n",
              "      <td>76.0</td>\n",
              "      <td>1</td>\n",
              "      <td>1</td>\n",
              "      <td>current</td>\n",
              "      <td>20.14</td>\n",
              "      <td>4.8</td>\n",
              "      <td>155</td>\n",
              "      <td>0</td>\n",
              "    </tr>\n",
              "  </tbody>\n",
              "</table>\n",
              "</div>\n",
              "    <div class=\"colab-df-buttons\">\n",
              "\n",
              "  <div class=\"colab-df-container\">\n",
              "    <button class=\"colab-df-convert\" onclick=\"convertToInteractive('df-c48e9f8c-174e-443f-b230-d85a28236100')\"\n",
              "            title=\"Convert this dataframe to an interactive table.\"\n",
              "            style=\"display:none;\">\n",
              "\n",
              "  <svg xmlns=\"http://www.w3.org/2000/svg\" height=\"24px\" viewBox=\"0 -960 960 960\">\n",
              "    <path d=\"M120-120v-720h720v720H120Zm60-500h600v-160H180v160Zm220 220h160v-160H400v160Zm0 220h160v-160H400v160ZM180-400h160v-160H180v160Zm440 0h160v-160H620v160ZM180-180h160v-160H180v160Zm440 0h160v-160H620v160Z\"/>\n",
              "  </svg>\n",
              "    </button>\n",
              "\n",
              "  <style>\n",
              "    .colab-df-container {\n",
              "      display:flex;\n",
              "      gap: 12px;\n",
              "    }\n",
              "\n",
              "    .colab-df-convert {\n",
              "      background-color: #E8F0FE;\n",
              "      border: none;\n",
              "      border-radius: 50%;\n",
              "      cursor: pointer;\n",
              "      display: none;\n",
              "      fill: #1967D2;\n",
              "      height: 32px;\n",
              "      padding: 0 0 0 0;\n",
              "      width: 32px;\n",
              "    }\n",
              "\n",
              "    .colab-df-convert:hover {\n",
              "      background-color: #E2EBFA;\n",
              "      box-shadow: 0px 1px 2px rgba(60, 64, 67, 0.3), 0px 1px 3px 1px rgba(60, 64, 67, 0.15);\n",
              "      fill: #174EA6;\n",
              "    }\n",
              "\n",
              "    .colab-df-buttons div {\n",
              "      margin-bottom: 4px;\n",
              "    }\n",
              "\n",
              "    [theme=dark] .colab-df-convert {\n",
              "      background-color: #3B4455;\n",
              "      fill: #D2E3FC;\n",
              "    }\n",
              "\n",
              "    [theme=dark] .colab-df-convert:hover {\n",
              "      background-color: #434B5C;\n",
              "      box-shadow: 0px 1px 3px 1px rgba(0, 0, 0, 0.15);\n",
              "      filter: drop-shadow(0px 1px 2px rgba(0, 0, 0, 0.3));\n",
              "      fill: #FFFFFF;\n",
              "    }\n",
              "  </style>\n",
              "\n",
              "    <script>\n",
              "      const buttonEl =\n",
              "        document.querySelector('#df-c48e9f8c-174e-443f-b230-d85a28236100 button.colab-df-convert');\n",
              "      buttonEl.style.display =\n",
              "        google.colab.kernel.accessAllowed ? 'block' : 'none';\n",
              "\n",
              "      async function convertToInteractive(key) {\n",
              "        const element = document.querySelector('#df-c48e9f8c-174e-443f-b230-d85a28236100');\n",
              "        const dataTable =\n",
              "          await google.colab.kernel.invokeFunction('convertToInteractive',\n",
              "                                                    [key], {});\n",
              "        if (!dataTable) return;\n",
              "\n",
              "        const docLinkHtml = 'Like what you see? Visit the ' +\n",
              "          '<a target=\"_blank\" href=https://colab.research.google.com/notebooks/data_table.ipynb>data table notebook</a>'\n",
              "          + ' to learn more about interactive tables.';\n",
              "        element.innerHTML = '';\n",
              "        dataTable['output_type'] = 'display_data';\n",
              "        await google.colab.output.renderOutput(dataTable, element);\n",
              "        const docLink = document.createElement('div');\n",
              "        docLink.innerHTML = docLinkHtml;\n",
              "        element.appendChild(docLink);\n",
              "      }\n",
              "    </script>\n",
              "  </div>\n",
              "\n",
              "\n",
              "<div id=\"df-8956797f-16ef-4e7e-bf17-899d58e578c1\">\n",
              "  <button class=\"colab-df-quickchart\" onclick=\"quickchart('df-8956797f-16ef-4e7e-bf17-899d58e578c1')\"\n",
              "            title=\"Suggest charts\"\n",
              "            style=\"display:none;\">\n",
              "\n",
              "<svg xmlns=\"http://www.w3.org/2000/svg\" height=\"24px\"viewBox=\"0 0 24 24\"\n",
              "     width=\"24px\">\n",
              "    <g>\n",
              "        <path d=\"M19 3H5c-1.1 0-2 .9-2 2v14c0 1.1.9 2 2 2h14c1.1 0 2-.9 2-2V5c0-1.1-.9-2-2-2zM9 17H7v-7h2v7zm4 0h-2V7h2v10zm4 0h-2v-4h2v4z\"/>\n",
              "    </g>\n",
              "</svg>\n",
              "  </button>\n",
              "\n",
              "<style>\n",
              "  .colab-df-quickchart {\n",
              "      --bg-color: #E8F0FE;\n",
              "      --fill-color: #1967D2;\n",
              "      --hover-bg-color: #E2EBFA;\n",
              "      --hover-fill-color: #174EA6;\n",
              "      --disabled-fill-color: #AAA;\n",
              "      --disabled-bg-color: #DDD;\n",
              "  }\n",
              "\n",
              "  [theme=dark] .colab-df-quickchart {\n",
              "      --bg-color: #3B4455;\n",
              "      --fill-color: #D2E3FC;\n",
              "      --hover-bg-color: #434B5C;\n",
              "      --hover-fill-color: #FFFFFF;\n",
              "      --disabled-bg-color: #3B4455;\n",
              "      --disabled-fill-color: #666;\n",
              "  }\n",
              "\n",
              "  .colab-df-quickchart {\n",
              "    background-color: var(--bg-color);\n",
              "    border: none;\n",
              "    border-radius: 50%;\n",
              "    cursor: pointer;\n",
              "    display: none;\n",
              "    fill: var(--fill-color);\n",
              "    height: 32px;\n",
              "    padding: 0;\n",
              "    width: 32px;\n",
              "  }\n",
              "\n",
              "  .colab-df-quickchart:hover {\n",
              "    background-color: var(--hover-bg-color);\n",
              "    box-shadow: 0 1px 2px rgba(60, 64, 67, 0.3), 0 1px 3px 1px rgba(60, 64, 67, 0.15);\n",
              "    fill: var(--button-hover-fill-color);\n",
              "  }\n",
              "\n",
              "  .colab-df-quickchart-complete:disabled,\n",
              "  .colab-df-quickchart-complete:disabled:hover {\n",
              "    background-color: var(--disabled-bg-color);\n",
              "    fill: var(--disabled-fill-color);\n",
              "    box-shadow: none;\n",
              "  }\n",
              "\n",
              "  .colab-df-spinner {\n",
              "    border: 2px solid var(--fill-color);\n",
              "    border-color: transparent;\n",
              "    border-bottom-color: var(--fill-color);\n",
              "    animation:\n",
              "      spin 1s steps(1) infinite;\n",
              "  }\n",
              "\n",
              "  @keyframes spin {\n",
              "    0% {\n",
              "      border-color: transparent;\n",
              "      border-bottom-color: var(--fill-color);\n",
              "      border-left-color: var(--fill-color);\n",
              "    }\n",
              "    20% {\n",
              "      border-color: transparent;\n",
              "      border-left-color: var(--fill-color);\n",
              "      border-top-color: var(--fill-color);\n",
              "    }\n",
              "    30% {\n",
              "      border-color: transparent;\n",
              "      border-left-color: var(--fill-color);\n",
              "      border-top-color: var(--fill-color);\n",
              "      border-right-color: var(--fill-color);\n",
              "    }\n",
              "    40% {\n",
              "      border-color: transparent;\n",
              "      border-right-color: var(--fill-color);\n",
              "      border-top-color: var(--fill-color);\n",
              "    }\n",
              "    60% {\n",
              "      border-color: transparent;\n",
              "      border-right-color: var(--fill-color);\n",
              "    }\n",
              "    80% {\n",
              "      border-color: transparent;\n",
              "      border-right-color: var(--fill-color);\n",
              "      border-bottom-color: var(--fill-color);\n",
              "    }\n",
              "    90% {\n",
              "      border-color: transparent;\n",
              "      border-bottom-color: var(--fill-color);\n",
              "    }\n",
              "  }\n",
              "</style>\n",
              "\n",
              "  <script>\n",
              "    async function quickchart(key) {\n",
              "      const quickchartButtonEl =\n",
              "        document.querySelector('#' + key + ' button');\n",
              "      quickchartButtonEl.disabled = true;  // To prevent multiple clicks.\n",
              "      quickchartButtonEl.classList.add('colab-df-spinner');\n",
              "      try {\n",
              "        const charts = await google.colab.kernel.invokeFunction(\n",
              "            'suggestCharts', [key], {});\n",
              "      } catch (error) {\n",
              "        console.error('Error during call to suggestCharts:', error);\n",
              "      }\n",
              "      quickchartButtonEl.classList.remove('colab-df-spinner');\n",
              "      quickchartButtonEl.classList.add('colab-df-quickchart-complete');\n",
              "    }\n",
              "    (() => {\n",
              "      let quickchartButtonEl =\n",
              "        document.querySelector('#df-8956797f-16ef-4e7e-bf17-899d58e578c1 button');\n",
              "      quickchartButtonEl.style.display =\n",
              "        google.colab.kernel.accessAllowed ? 'block' : 'none';\n",
              "    })();\n",
              "  </script>\n",
              "</div>\n",
              "\n",
              "    </div>\n",
              "  </div>\n"
            ],
            "application/vnd.google.colaboratory.intrinsic+json": {
              "type": "dataframe",
              "variable_name": "df",
              "summary": "{\n  \"name\": \"df\",\n  \"rows\": 100000,\n  \"fields\": [\n    {\n      \"column\": \"gender\",\n      \"properties\": {\n        \"dtype\": \"category\",\n        \"num_unique_values\": 3,\n        \"samples\": [\n          \"Female\",\n          \"Male\",\n          \"Other\"\n        ],\n        \"semantic_type\": \"\",\n        \"description\": \"\"\n      }\n    },\n    {\n      \"column\": \"age\",\n      \"properties\": {\n        \"dtype\": \"number\",\n        \"std\": 22.51683987161513,\n        \"min\": 0.08,\n        \"max\": 80.0,\n        \"num_unique_values\": 102,\n        \"samples\": [\n          29.0,\n          39.0,\n          16.0\n        ],\n        \"semantic_type\": \"\",\n        \"description\": \"\"\n      }\n    },\n    {\n      \"column\": \"hypertension\",\n      \"properties\": {\n        \"dtype\": \"number\",\n        \"std\": 0,\n        \"min\": 0,\n        \"max\": 1,\n        \"num_unique_values\": 2,\n        \"samples\": [\n          1,\n          0\n        ],\n        \"semantic_type\": \"\",\n        \"description\": \"\"\n      }\n    },\n    {\n      \"column\": \"heart_disease\",\n      \"properties\": {\n        \"dtype\": \"number\",\n        \"std\": 0,\n        \"min\": 0,\n        \"max\": 1,\n        \"num_unique_values\": 2,\n        \"samples\": [\n          0,\n          1\n        ],\n        \"semantic_type\": \"\",\n        \"description\": \"\"\n      }\n    },\n    {\n      \"column\": \"smoking_history\",\n      \"properties\": {\n        \"dtype\": \"category\",\n        \"num_unique_values\": 6,\n        \"samples\": [\n          \"never\",\n          \"No Info\"\n        ],\n        \"semantic_type\": \"\",\n        \"description\": \"\"\n      }\n    },\n    {\n      \"column\": \"bmi\",\n      \"properties\": {\n        \"dtype\": \"number\",\n        \"std\": 6.636783416649581,\n        \"min\": 10.01,\n        \"max\": 95.69,\n        \"num_unique_values\": 4247,\n        \"samples\": [\n          53.27,\n          32.33\n        ],\n        \"semantic_type\": \"\",\n        \"description\": \"\"\n      }\n    },\n    {\n      \"column\": \"HbA1c_level\",\n      \"properties\": {\n        \"dtype\": \"number\",\n        \"std\": 1.0706720918832282,\n        \"min\": 3.5,\n        \"max\": 9.0,\n        \"num_unique_values\": 18,\n        \"samples\": [\n          6.6,\n          5.7\n        ],\n        \"semantic_type\": \"\",\n        \"description\": \"\"\n      }\n    },\n    {\n      \"column\": \"blood_glucose_level\",\n      \"properties\": {\n        \"dtype\": \"number\",\n        \"std\": 40,\n        \"min\": 80,\n        \"max\": 300,\n        \"num_unique_values\": 18,\n        \"samples\": [\n          140,\n          80\n        ],\n        \"semantic_type\": \"\",\n        \"description\": \"\"\n      }\n    },\n    {\n      \"column\": \"diabetes\",\n      \"properties\": {\n        \"dtype\": \"number\",\n        \"std\": 0,\n        \"min\": 0,\n        \"max\": 1,\n        \"num_unique_values\": 2,\n        \"samples\": [\n          1,\n          0\n        ],\n        \"semantic_type\": \"\",\n        \"description\": \"\"\n      }\n    }\n  ]\n}"
            }
          },
          "metadata": {},
          "execution_count": 6
        }
      ]
    },
    {
      "cell_type": "markdown",
      "source": [
        "## **Info Data**"
      ],
      "metadata": {
        "id": "h_CkXV3rSdCV"
      }
    },
    {
      "cell_type": "code",
      "source": [
        "df.info()"
      ],
      "metadata": {
        "colab": {
          "base_uri": "https://localhost:8080/"
        },
        "id": "pJ6kjn1OSk2F",
        "outputId": "f2a0e014-aeaf-4836-b53c-65590ce3ce12"
      },
      "execution_count": 7,
      "outputs": [
        {
          "output_type": "stream",
          "name": "stdout",
          "text": [
            "<class 'pandas.core.frame.DataFrame'>\n",
            "RangeIndex: 100000 entries, 0 to 99999\n",
            "Data columns (total 9 columns):\n",
            " #   Column               Non-Null Count   Dtype  \n",
            "---  ------               --------------   -----  \n",
            " 0   gender               100000 non-null  object \n",
            " 1   age                  100000 non-null  float64\n",
            " 2   hypertension         100000 non-null  int64  \n",
            " 3   heart_disease        100000 non-null  int64  \n",
            " 4   smoking_history      100000 non-null  object \n",
            " 5   bmi                  100000 non-null  float64\n",
            " 6   HbA1c_level          100000 non-null  float64\n",
            " 7   blood_glucose_level  100000 non-null  int64  \n",
            " 8   diabetes             100000 non-null  int64  \n",
            "dtypes: float64(3), int64(4), object(2)\n",
            "memory usage: 6.9+ MB\n"
          ]
        }
      ]
    },
    {
      "cell_type": "markdown",
      "source": [
        "### **1. Menghitung Hipertensi dan Riwayat Merokok Pada Penderita Diabetes**"
      ],
      "metadata": {
        "id": "RILJAMvCVuPT"
      }
    },
    {
      "cell_type": "code",
      "source": [
        "kolom_tertentu = \"hypertension\"\n",
        "if kolom_tertentu in df.columns:\n",
        "    print(f\"\\nMenghitung jumlah kemunculan nilai unik dalam kolom '{kolom_tertentu}' dengan df['{kolom_tertentu}'].value_counts():\")\n",
        "    print(df[kolom_tertentu].value_counts())\n",
        "else:\n",
        "    print(f\"\\nKolom '{kolom_tertentu}' tidak ditemukan dalam dataset.\")\n"
      ],
      "metadata": {
        "colab": {
          "base_uri": "https://localhost:8080/"
        },
        "id": "zy2NzfZpV498",
        "outputId": "bc8cbc9d-8970-4494-bff7-c6b6ece0e218"
      },
      "execution_count": 12,
      "outputs": [
        {
          "output_type": "stream",
          "name": "stdout",
          "text": [
            "\n",
            "Menghitung jumlah kemunculan nilai unik dalam kolom 'hypertension' dengan df['hypertension'].value_counts():\n",
            "hypertension\n",
            "0    92515\n",
            "1     7485\n",
            "Name: count, dtype: int64\n"
          ]
        }
      ]
    },
    {
      "cell_type": "code",
      "source": [
        "kolom_tertentu = \"smoking_history\"\n",
        "if kolom_tertentu in df.columns:\n",
        "    print(f\"\\nMenghitung jumlah kemunculan nilai unik dalam kolom '{kolom_tertentu}' dengan df['{kolom_tertentu}'].value_counts():\")\n",
        "    print(df[kolom_tertentu].value_counts())\n",
        "else:\n",
        "    print(f\"\\nKolom '{kolom_tertentu}' tidak ditemukan dalam dataset.\")\n"
      ],
      "metadata": {
        "colab": {
          "base_uri": "https://localhost:8080/"
        },
        "id": "cjCeJ-jLW0qH",
        "outputId": "b1ba0439-c58c-4833-f47a-9c531d6126b7"
      },
      "execution_count": 13,
      "outputs": [
        {
          "output_type": "stream",
          "name": "stdout",
          "text": [
            "\n",
            "Menghitung jumlah kemunculan nilai unik dalam kolom 'smoking_history' dengan df['smoking_history'].value_counts():\n",
            "smoking_history\n",
            "No Info        35816\n",
            "never          35095\n",
            "former          9352\n",
            "current         9286\n",
            "not current     6447\n",
            "ever            4004\n",
            "Name: count, dtype: int64\n"
          ]
        }
      ]
    },
    {
      "cell_type": "markdown",
      "source": [
        "hypertension : Dari total data yang dianalisis, terdapat 92.515 individu yang tidak memiliki hipertensi (nilai 0), sementara 7.485 individu lainnya terdiagnosis hipertensi (nilai 1).\n",
        "\n",
        "\n",
        "smoking history : Dari total data yang diperoleh, terdapat 35.816 individu yang tidak memiliki informasi mengenai riwayat merokok (kategori \"No Info\"). Selain itu, 35.095 individu dilaporkan tidak pernah merokok (kategori \"never\"), sementara 9.352 individu adalah mantan perokok (kategori \"former\")."
      ],
      "metadata": {
        "id": "FxVCqh1zYof3"
      }
    },
    {
      "cell_type": "markdown",
      "source": [
        "### **2.Menghitung Rata-Rata**"
      ],
      "metadata": {
        "id": "CQkSQDVzZDng"
      }
    },
    {
      "cell_type": "code",
      "source": [
        "print(\"\\nMenghitung rata-rata dengan df.mean():\")\n",
        "print(df.mean(numeric_only=True))"
      ],
      "metadata": {
        "colab": {
          "base_uri": "https://localhost:8080/"
        },
        "id": "NgqSVSC0ZTBF",
        "outputId": "90443d50-8894-4240-b9c8-75f963a61823"
      },
      "execution_count": 14,
      "outputs": [
        {
          "output_type": "stream",
          "name": "stdout",
          "text": [
            "\n",
            "Menghitung rata-rata dengan df.mean():\n",
            "age                     41.885856\n",
            "hypertension             0.074850\n",
            "heart_disease            0.039420\n",
            "bmi                     27.320767\n",
            "HbA1c_level              5.527507\n",
            "blood_glucose_level    138.058060\n",
            "diabetes                 0.085000\n",
            "dtype: float64\n"
          ]
        }
      ]
    },
    {
      "cell_type": "markdown",
      "source": [
        "### **3.Menghitung median**"
      ],
      "metadata": {
        "id": "CArdqGruaIXr"
      }
    },
    {
      "cell_type": "code",
      "source": [
        "print(\"\\nMenghitung median dengan df.median():\")\n",
        "print(df.median(numeric_only=True))"
      ],
      "metadata": {
        "colab": {
          "base_uri": "https://localhost:8080/"
        },
        "id": "HgDRDQ6yZ1pZ",
        "outputId": "71479a7f-50c6-40a5-c3e4-c091a791567e"
      },
      "execution_count": 15,
      "outputs": [
        {
          "output_type": "stream",
          "name": "stdout",
          "text": [
            "\n",
            "Menghitung median dengan df.median():\n",
            "age                     43.00\n",
            "hypertension             0.00\n",
            "heart_disease            0.00\n",
            "bmi                     27.32\n",
            "HbA1c_level              5.80\n",
            "blood_glucose_level    140.00\n",
            "diabetes                 0.00\n",
            "dtype: float64\n"
          ]
        }
      ]
    },
    {
      "cell_type": "markdown",
      "source": [
        "Secara keseluruhan, analisis median ini memberikan gambaran yang jelas tentang karakteristik demografis dan kesehatan dari populasi yang dianalisis"
      ],
      "metadata": {
        "id": "_ligduc4aEgq"
      }
    },
    {
      "cell_type": "code",
      "source": [
        "print(\"\\nMenghitung standar deviasi dengan df.std():\")\n",
        "print(df.std(numeric_only=True))"
      ],
      "metadata": {
        "colab": {
          "base_uri": "https://localhost:8080/"
        },
        "id": "erp4RY7LaS4i",
        "outputId": "a690a853-6fa6-43a7-b601-c64848150920"
      },
      "execution_count": 16,
      "outputs": [
        {
          "output_type": "stream",
          "name": "stdout",
          "text": [
            "\n",
            "Menghitung standar deviasi dengan df.std():\n",
            "age                    22.516840\n",
            "hypertension            0.263150\n",
            "heart_disease           0.194593\n",
            "bmi                     6.636783\n",
            "HbA1c_level             1.070672\n",
            "blood_glucose_level    40.708136\n",
            "diabetes                0.278883\n",
            "dtype: float64\n"
          ]
        }
      ]
    },
    {
      "cell_type": "markdown",
      "source": [
        "Membantu dalam mengidentifikasi kelompok individu yang mungkin memiliki risiko lebih tinggi untuk kondisi kesehatan tertentu, termasuk diabetes. Variabilitas yang tinggi dalam beberapa variabel, seperti usia, BMI, dan kadar glukosa darah, menunjukkan perlunya pendekatan yang lebih terfokus dalam intervensi kesehatan dan pencegahan."
      ],
      "metadata": {
        "id": "c1U-6Xxuak5G"
      }
    },
    {
      "cell_type": "markdown",
      "source": [
        "### **4.Menghitung Kolerasi**"
      ],
      "metadata": {
        "id": "qPRysfp-asQr"
      }
    },
    {
      "cell_type": "code",
      "source": [
        "print(\"\\nMenghitung korelasi antar kolom numerik dengan df.corr():\")\n",
        "print(df.corr(numeric_only=True))\n"
      ],
      "metadata": {
        "colab": {
          "base_uri": "https://localhost:8080/"
        },
        "id": "DmTjKcFfa1kk",
        "outputId": "941a230a-3426-432c-8a44-646baa7369d8"
      },
      "execution_count": 17,
      "outputs": [
        {
          "output_type": "stream",
          "name": "stdout",
          "text": [
            "\n",
            "Menghitung korelasi antar kolom numerik dengan df.corr():\n",
            "                          age  hypertension  heart_disease       bmi  \\\n",
            "age                  1.000000      0.251171       0.233354  0.337396   \n",
            "hypertension         0.251171      1.000000       0.121262  0.147666   \n",
            "heart_disease        0.233354      0.121262       1.000000  0.061198   \n",
            "bmi                  0.337396      0.147666       0.061198  1.000000   \n",
            "HbA1c_level          0.101354      0.080939       0.067589  0.082997   \n",
            "blood_glucose_level  0.110672      0.084429       0.070066  0.091261   \n",
            "diabetes             0.258008      0.197823       0.171727  0.214357   \n",
            "\n",
            "                     HbA1c_level  blood_glucose_level  diabetes  \n",
            "age                     0.101354             0.110672  0.258008  \n",
            "hypertension            0.080939             0.084429  0.197823  \n",
            "heart_disease           0.067589             0.070066  0.171727  \n",
            "bmi                     0.082997             0.091261  0.214357  \n",
            "HbA1c_level             1.000000             0.166733  0.400660  \n",
            "blood_glucose_level     0.166733             1.000000  0.419558  \n",
            "diabetes                0.400660             0.419558  1.000000  \n"
          ]
        }
      ]
    },
    {
      "cell_type": "markdown",
      "source": [
        "Korelasi ini memberikan wawasan yang berharga tentang hubungan antara berbagai faktor risiko dan diabetes. Kadar glukosa darah dan HbA1c muncul sebagai indikator yang paling kuat untuk memprediksi diabetes, diikuti oleh usia, hipertensi, dan BMI."
      ],
      "metadata": {
        "id": "OlzdvKVkbEOU"
      }
    },
    {
      "cell_type": "markdown",
      "source": [
        "### **6.Visualisasi Data**"
      ],
      "metadata": {
        "id": "2zjRNKtSbZiU"
      }
    },
    {
      "cell_type": "code",
      "source": [
        "import matplotlib.pyplot as plt\n",
        "import seaborn as sns"
      ],
      "metadata": {
        "id": "d0CJvMMMcs0h"
      },
      "execution_count": 21,
      "outputs": []
    },
    {
      "cell_type": "code",
      "source": [
        "plt.figure(figsize=(8, 5))\n",
        "sns.countplot(x='diabetes', data=df)\n",
        "plt.title('Jumlah Individu Berdasarkan Status Diabetes')\n",
        "plt.xlabel('Status Diabetes (0 = Tidak, 1 = Ya)')\n",
        "plt.ylabel('Jumlah Individu')\n",
        "plt.xticks(ticks=[0, 1], labels=['Tidak', 'Ya'])\n",
        "plt.show()"
      ],
      "metadata": {
        "colab": {
          "base_uri": "https://localhost:8080/",
          "height": 487
        },
        "id": "EZf29j9Kdos_",
        "outputId": "fd7cecbe-4023-41b1-b819-37b7d59fa7eb"
      },
      "execution_count": 28,
      "outputs": [
        {
          "output_type": "display_data",
          "data": {
            "text/plain": [
              "<Figure size 800x500 with 1 Axes>"
            ],
            "image/png": "[encoded data removed]"
          },
          "metadata": {}
        }
      ]
    },
    {
      "cell_type": "markdown",
      "source": [
        "Jumlah individu berdasarkan status diabetes yang tidak mengalami riwayat diabetes lebih tinggi dibandingkan dengan yang memiliki riwayat penyakit diabetes.."
      ],
      "metadata": {
        "id": "mC1HIcDWfq4m"
      }
    },
    {
      "cell_type": "markdown",
      "source": [
        "### **Kesimpulan**\n",
        "\n",
        "Analisis ini memberikan wawasan yang berharga tentang faktor-faktor yang berkontribusi terhadap diabetes dan dapat membantu dalam pengembangan strategi pencegahan dan pengelolaan yang lebih efektif."
      ],
      "metadata": {
        "id": "M6q4l2JBgzVM"
      }
    }
  ]
}